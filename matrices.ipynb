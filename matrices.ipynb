{
 "cells": [
  {
   "cell_type": "code",
   "execution_count": 27,
   "metadata": {},
   "outputs": [],
   "source": [
    "import numpy as np"
   ]
  },
  {
   "cell_type": "code",
   "execution_count": 28,
   "metadata": {},
   "outputs": [
    {
     "name": "stdout",
     "output_type": "stream",
     "text": [
      "[[ 1.52475405  0.93812933  1.28346149 -0.21046811 -1.2103742 ]\n",
      " [-0.30154394 -0.08893028  0.399809    1.22181434  1.13183047]\n",
      " [-0.3590373  -0.03776263  0.62202949  0.13844477  0.6865777 ]\n",
      " [ 0.9036148   0.48788151  0.78617059 -0.28209352 -0.3122095 ]\n",
      " [ 0.74027098 -0.11942348 -0.66066347 -0.80438192 -0.24120208]] \n",
      "\n",
      " [[ 0.22802858 -1.24192472]\n",
      " [ 0.33134006 -1.36834523]\n",
      " [-0.54817271 -0.84684121]\n",
      " [-0.12819326  0.90318373]\n",
      " [ 0.77624243 -0.02606907]]\n"
     ]
    }
   ],
   "source": [
    "# Square an Rectangle Shape Matrix\n",
    "\n",
    "S = np.random.randn(5, 5)\n",
    "\n",
    "R = np.random.randn(5,2)\n",
    "\n",
    "print(S,'\\n\\n', R)\n"
   ]
  },
  {
   "cell_type": "code",
   "execution_count": 29,
   "metadata": {},
   "outputs": [
    {
     "name": "stdout",
     "output_type": "stream",
     "text": [
      "[[1. 0. 0. 0.]\n",
      " [0. 1. 0. 0.]\n",
      " [0. 0. 1. 0.]\n",
      " [0. 0. 0. 1.]]\n"
     ]
    }
   ],
   "source": [
    "# Identity Matrix\n",
    "I = np.eye(4)\n",
    "print(I)"
   ]
  },
  {
   "cell_type": "code",
   "execution_count": 30,
   "metadata": {},
   "outputs": [
    {
     "name": "stdout",
     "output_type": "stream",
     "text": [
      "[[0. 0. 0. 0.]\n",
      " [0. 0. 0. 0.]\n",
      " [0. 0. 0. 0.]\n",
      " [0. 0. 0. 0.]]\n"
     ]
    }
   ],
   "source": [
    "# Null Matrix\n",
    "Z = np.zeros((4,4))\n",
    "\n",
    "print(Z)"
   ]
  },
  {
   "cell_type": "code",
   "execution_count": 31,
   "metadata": {},
   "outputs": [
    {
     "name": "stdout",
     "output_type": "stream",
     "text": [
      "[[1 0 0 0 0]\n",
      " [0 2 0 0 0]\n",
      " [0 0 3 0 0]\n",
      " [0 0 0 4 0]\n",
      " [0 0 0 0 5]]\n"
     ]
    }
   ],
   "source": [
    "# Diagonal Matrix\n",
    "\n",
    "D = np.diag([1, 2, 3, 4, 5])\n",
    "\n",
    "print(D)"
   ]
  },
  {
   "cell_type": "code",
   "execution_count": 32,
   "metadata": {},
   "outputs": [
    {
     "name": "stdout",
     "output_type": "stream",
     "text": [
      "[[ 1.6511884  -0.18543145  0.41990518  0.04259091  0.48410602]\n",
      " [ 0.15577904  0.80704537 -1.49771452  0.16374794 -0.24852251]\n",
      " [ 0.52493669 -1.82360587  0.29877321  1.111191    1.55449163]\n",
      " [-0.52820108 -1.29132821  1.18819006  1.35928764  1.13827775]\n",
      " [ 0.96012191 -0.12412575  0.30829777  0.16080891  0.69555656]] \n",
      "\n",
      "\n",
      " [[ 1.6511884  -0.18543145  0.41990518  0.04259091  0.48410602]\n",
      " [ 0.          0.80704537 -1.49771452  0.16374794 -0.24852251]\n",
      " [ 0.          0.          0.29877321  1.111191    1.55449163]\n",
      " [ 0.          0.          0.          1.35928764  1.13827775]\n",
      " [ 0.          0.          0.          0.          0.69555656]] \n",
      "\n",
      "\n",
      " [[ 1.6511884   0.          0.          0.          0.        ]\n",
      " [ 0.15577904  0.80704537  0.          0.          0.        ]\n",
      " [ 0.52493669 -1.82360587  0.29877321  0.          0.        ]\n",
      " [-0.52820108 -1.29132821  1.18819006  1.35928764  0.        ]\n",
      " [ 0.96012191 -0.12412575  0.30829777  0.16080891  0.69555656]]\n"
     ]
    }
   ],
   "source": [
    "# Creating Triangluar Matrix from full matrix\n",
    "\n",
    "S = np.random.randn(5,5)\n",
    "U = np.triu(S)\n",
    "L = np.tril(S)\n",
    "\n",
    "\n",
    "print(S ,'\\n\\n\\n', U ,'\\n\\n\\n', L)\n"
   ]
  },
  {
   "cell_type": "code",
   "execution_count": 33,
   "metadata": {},
   "outputs": [
    {
     "data": {
      "text/plain": [
       "array([[ 0.93047296,  1.37129176, -0.33121736, -0.38006861,  1.00624836,\n",
       "        -2.84500328],\n",
       "       [ 0.6029323 ,  0.76911244, -0.62537668, -0.6434618 , -0.38727053,\n",
       "        -1.03163234],\n",
       "       [-0.25391928,  1.18119327, -0.74357439,  0.01467478,  0.78395246,\n",
       "        -0.4030441 ]])"
      ]
     },
     "execution_count": 33,
     "metadata": {},
     "output_type": "execute_result"
    }
   ],
   "source": [
    "# Matrix Concatenation \n",
    "\n",
    "A = np.random.randn(3, 2)\n",
    "B = np.random.randn(3, 4)\n",
    "\n",
    "C = np.concatenate((A, B), axis=1)\n",
    "\n",
    "C\n",
    "# For Concatenation the rows should match !!"
   ]
  },
  {
   "cell_type": "markdown",
   "metadata": {},
   "source": [
    "##### Matrix Addition is Commutative i.e A + B = B + A \n",
    "##### Matrix Addition is Associative i.e A + ( B + C ) = ( A + B ) + C"
   ]
  },
  {
   "cell_type": "code",
   "execution_count": 34,
   "metadata": {},
   "outputs": [
    {
     "data": {
      "text/plain": [
       "array([[-0.06947774, -1.34722518,  0.80305219,  1.5443919 ],\n",
       "       [-0.69225257, -0.11687336,  0.86480399,  1.9612607 ],\n",
       "       [-1.37524999, -0.09273982,  1.19502074,  3.08020697],\n",
       "       [-0.39017198, -1.78412454, -0.3648121 , -0.2297072 ],\n",
       "       [ 2.39643213, -1.74377669,  0.75801108,  2.81303761]])"
      ]
     },
     "execution_count": 34,
     "metadata": {},
     "output_type": "execute_result"
    }
   ],
   "source": [
    "# Matrix Addition\n",
    "\n",
    "A = np.random.randn(5, 5)\n",
    "B = np.random.randn(5, 4)\n",
    "C = np.random.randn(5, 4)\n",
    "\n",
    "\n",
    "\n",
    "\n",
    "B + C"
   ]
  },
  {
   "cell_type": "code",
   "execution_count": 35,
   "metadata": {},
   "outputs": [
    {
     "name": "stdout",
     "output_type": "stream",
     "text": [
      "[[-0.40952264 -1.81960665 -0.51429291  0.68837318 -2.5862699 ]\n",
      " [-2.05218901  1.14514096  0.24202882  0.25575615  2.42131119]\n",
      " [ 1.27137545  0.98978974 -0.35696248  0.36456793 -0.45668447]\n",
      " [-1.1452229   0.3448248   0.95265918 -0.23302644 -0.41754249]\n",
      " [ 0.26605787 -0.29006578  1.14694822  1.4222499   0.62286023]]\n"
     ]
    }
   ],
   "source": [
    "## Shifting a Matrix ( Here the Matrix can only be the Square Matrix , because the Identity matrix will be square matrix we can only add  matrices with same shape)\n",
    "\n",
    "l = 0.3\n",
    "N = 5\n",
    "D = np.random.randn(N , N)\n",
    "\n",
    "D_shift = D + l * np.eye(N)\n",
    "\n",
    "print(D_shift)"
   ]
  },
  {
   "cell_type": "code",
   "execution_count": 36,
   "metadata": {},
   "outputs": [
    {
     "name": "stdout",
     "output_type": "stream",
     "text": [
      "[[-2.12856791 -5.45881996 -1.54287873  2.06511955 -7.75880971]\n",
      " [-6.15656702  2.53542288  0.72608647  0.76726845  7.26393356]\n",
      " [ 3.81412634  2.96936921 -1.97088745  1.0937038  -1.37005342]\n",
      " [-3.43566871  1.03447441  2.85797755 -1.59907932 -1.25262747]\n",
      " [ 0.7981736  -0.87019735  3.44084467  4.26674971  0.9685807 ]]\n",
      "\n",
      "\n",
      "[[-2.12856791 -5.45881996 -1.54287873  2.06511955 -7.75880971]\n",
      " [-6.15656702  2.53542288  0.72608647  0.76726845  7.26393356]\n",
      " [ 3.81412634  2.96936921 -1.97088745  1.0937038  -1.37005342]\n",
      " [-3.43566871  1.03447441  2.85797755 -1.59907932 -1.25262747]\n",
      " [ 0.7981736  -0.87019735  3.44084467  4.26674971  0.9685807 ]]\n"
     ]
    }
   ],
   "source": [
    "# Matrix Scalar Multiplication \n",
    "\n",
    "s = 3\n",
    "\n",
    "print ( s * D)\n",
    "\n",
    "print('\\n')\n",
    "\n",
    "print(D * s)\n",
    "\n"
   ]
  },
  {
   "cell_type": "code",
   "execution_count": 37,
   "metadata": {},
   "outputs": [
    {
     "name": "stdout",
     "output_type": "stream",
     "text": [
      "[[-0.34748358 -1.90905272 -1.6586378   2.18731697]\n",
      " [-0.17044812  1.58164979  0.69693584  0.80549074]\n",
      " [ 0.27447686 -0.43670006  2.11981909 -0.66466353]\n",
      " [ 0.41024636 -0.28372331  1.08595933 -1.99534081]\n",
      " [-0.03934032 -0.9154657   1.37914398  0.63717206]]\n",
      "\n",
      "\n",
      "[[-0.34748358 -1.90905272 -1.6586378   2.18731697]\n",
      " [-0.17044812  1.58164979  0.69693584  0.80549074]\n",
      " [ 0.27447686 -0.43670006  2.11981909 -0.66466353]\n",
      " [ 0.41024636 -0.28372331  1.08595933 -1.99534081]\n",
      " [-0.03934032 -0.9154657   1.37914398  0.63717206]]\n"
     ]
    }
   ],
   "source": [
    "## Distributive property  s ( A + B ) = sA + sB \n",
    "\n",
    "A = np.random.randn(5, 4)\n",
    "\n",
    "B = np.random.randn(5, 4)\n",
    "\n",
    "s = np.random.randn()\n",
    "\n",
    "LHS = s * ( A + B )\n",
    "print(s * ( A + B ))\n",
    "\n",
    "print('\\n')\n",
    "\n",
    "RHS = s * A  + s * B \n",
    "print(s * A  + s * B )\n"
   ]
  },
  {
   "cell_type": "code",
   "execution_count": 38,
   "metadata": {},
   "outputs": [
    {
     "name": "stdout",
     "output_type": "stream",
     "text": [
      "[[-5.55111512e-17  0.00000000e+00 -2.22044605e-16 -4.44089210e-16]\n",
      " [ 0.00000000e+00  0.00000000e+00  1.11022302e-16 -1.11022302e-16]\n",
      " [-5.55111512e-17  0.00000000e+00  4.44089210e-16  0.00000000e+00]\n",
      " [ 0.00000000e+00  1.66533454e-16  0.00000000e+00 -2.22044605e-16]\n",
      " [-3.46944695e-17  1.11022302e-16  2.22044605e-16  0.00000000e+00]]\n"
     ]
    }
   ],
   "source": [
    "## It is Distributive !!!\n",
    "print(LHS - RHS)"
   ]
  },
  {
   "cell_type": "code",
   "execution_count": 44,
   "metadata": {},
   "outputs": [
    {
     "name": "stdout",
     "output_type": "stream",
     "text": [
      "[[4.+1.j 3.+0.j 2.-4.j]]\n",
      "[[4.+1.j]\n",
      " [3.+0.j]\n",
      " [2.-4.j]]\n",
      "[[4.+1.j]\n",
      " [3.+0.j]\n",
      " [2.-4.j]]\n",
      "[[4.-1.j]\n",
      " [3.-0.j]\n",
      " [2.+4.j]]\n"
     ]
    }
   ],
   "source": [
    "## Be carefull with Complex Matrices !! \n",
    "\n",
    "C = np.array([[4+1j, 3 , 2-4j]])\n",
    "\n",
    "print(C)\n",
    "\n",
    "print(C.T)\n",
    "\n",
    "print(np.transpose(C))\n",
    "## when working with matlab transpose in Harmitain matrice ; In Python you need to call explicitly the Matrix\n",
    "\n",
    "print(np.matrix(C).H)  ## This transpose fips the sign\n",
    "\n"
   ]
  },
  {
   "cell_type": "code",
   "execution_count": 61,
   "metadata": {},
   "outputs": [
    {
     "name": "stdout",
     "output_type": "stream",
     "text": [
      "[[ 10.  -3.   2.  -2.]\n",
      " [  2.  -5.   9.  -0.]\n",
      " [ -7.   5.  -2.   1.]\n",
      " [ -7.  -1. -11.   1.]]\n",
      "\n",
      "\n",
      "[10. -5. -2.  1.]\n",
      "\n",
      "\n",
      "[[10.  0.  0.  0.]\n",
      " [ 0. -5.  0.  0.]\n",
      " [ 0.  0. -2.  0.]\n",
      " [ 0.  0.  0.  1.]]\n",
      "\n",
      "\n",
      "4.0\n",
      "4.0\n"
     ]
    }
   ],
   "source": [
    "## Diagonal and Trace \n",
    "\n",
    "M = np.round(5 * np.random.randn(4,4))\n",
    "print(M)\n",
    "\n",
    "print('\\n')\n",
    "\n",
    "d = np.diag(M)\n",
    "D = np.diag(d)\n",
    "print(d )\n",
    "print('\\n')\n",
    "print(D)\n",
    "\n",
    "tr = np.trace(M)\n",
    "print('\\n')\n",
    "print(tr)\n",
    "print(sum(np.diag(M))) ## another way to compute trace !!"
   ]
  },
  {
   "cell_type": "code",
   "execution_count": 79,
   "metadata": {},
   "outputs": [
    {
     "name": "stdout",
     "output_type": "stream",
     "text": [
      "-8.0 -8.0\n",
      "27.0 27.0\n"
     ]
    }
   ],
   "source": [
    "## Linearity of the Trace \n",
    "\n",
    "A = np.round(5 * np.random.randn(4,4))\n",
    "\n",
    "B = np.round(5 * np.random.randn(4,4))\n",
    "\n",
    "\n",
    "LHS = np.trace(A) + np.trace(B)\n",
    "\n",
    "RHS = np.trace(A+B)\n",
    "\n",
    "print(LHS, RHS) ## This condition holds true !!\n",
    "\n",
    "l = 3 \n",
    "\n",
    "lhs = l * np.trace(A)\n",
    "\n",
    "rhs = np.trace( l * A)\n",
    "\n",
    "print(lhs, rhs) ## This condition holds true !! \n",
    "\n"
   ]
  }
 ],
 "metadata": {
  "kernelspec": {
   "display_name": "Deep_Learning",
   "language": "python",
   "name": "python3"
  },
  "language_info": {
   "codemirror_mode": {
    "name": "ipython",
    "version": 3
   },
   "file_extension": ".py",
   "mimetype": "text/x-python",
   "name": "python",
   "nbconvert_exporter": "python",
   "pygments_lexer": "ipython3",
   "version": "3.9.15"
  }
 },
 "nbformat": 4,
 "nbformat_minor": 2
}

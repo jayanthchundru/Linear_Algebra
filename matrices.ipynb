{
 "cells": [
  {
   "cell_type": "code",
   "execution_count": 2,
   "metadata": {},
   "outputs": [],
   "source": [
    "import numpy as np"
   ]
  },
  {
   "cell_type": "code",
   "execution_count": 14,
   "metadata": {},
   "outputs": [
    {
     "name": "stdout",
     "output_type": "stream",
     "text": [
      "[[ 1.25585385 -0.82627607 -0.11654789  0.57112494 -0.48218021]\n",
      " [ 1.86592224 -1.68793762  0.27634537 -0.13273919  0.98194974]\n",
      " [ 1.32748706  2.53955342  1.14978167 -2.73286176 -1.12481274]\n",
      " [-0.61311021  1.48702574 -1.77064914  0.75479715  0.7617853 ]\n",
      " [-1.66746828 -1.13723578  0.95557903  0.8614914   0.38265558]] \n",
      "\n",
      " [[ 0.07244306 -0.28210317]\n",
      " [-0.21207044 -0.15800216]\n",
      " [-1.39196678  0.83586098]\n",
      " [ 1.32645587  2.0354267 ]\n",
      " [ 0.45183935 -1.22579802]]\n"
     ]
    }
   ],
   "source": [
    "# Square an Rectangle Shape Matrix\n",
    "\n",
    "S = np.random.randn(5, 5)\n",
    "\n",
    "R = np.random.randn(5,2)\n",
    "\n",
    "print(S,'\\n\\n', R)\n"
   ]
  },
  {
   "cell_type": "code",
   "execution_count": 15,
   "metadata": {},
   "outputs": [
    {
     "name": "stdout",
     "output_type": "stream",
     "text": [
      "[[1. 0. 0. 0.]\n",
      " [0. 1. 0. 0.]\n",
      " [0. 0. 1. 0.]\n",
      " [0. 0. 0. 1.]]\n"
     ]
    }
   ],
   "source": [
    "# Identity Matrix\n",
    "I = np.eye(4)\n",
    "print(I)"
   ]
  },
  {
   "cell_type": "code",
   "execution_count": 16,
   "metadata": {},
   "outputs": [
    {
     "name": "stdout",
     "output_type": "stream",
     "text": [
      "[[0. 0. 0. 0.]\n",
      " [0. 0. 0. 0.]\n",
      " [0. 0. 0. 0.]\n",
      " [0. 0. 0. 0.]]\n"
     ]
    }
   ],
   "source": [
    "# Null Matrix\n",
    "Z = np.zeros((4,4))\n",
    "\n",
    "print(Z)"
   ]
  },
  {
   "cell_type": "code",
   "execution_count": 3,
   "metadata": {},
   "outputs": [
    {
     "name": "stdout",
     "output_type": "stream",
     "text": [
      "[[1 0 0 0 0]\n",
      " [0 2 0 0 0]\n",
      " [0 0 3 0 0]\n",
      " [0 0 0 4 0]\n",
      " [0 0 0 0 5]]\n"
     ]
    }
   ],
   "source": [
    "# Diagonal Matrix\n",
    "\n",
    "D = np.diag([1, 2, 3, 4, 5])\n",
    "\n",
    "print(D)"
   ]
  },
  {
   "cell_type": "code",
   "execution_count": 8,
   "metadata": {},
   "outputs": [
    {
     "name": "stdout",
     "output_type": "stream",
     "text": [
      "[[-0.18965986 -0.4330451   0.10473245 -1.12566426 -0.18498862]\n",
      " [ 0.76943576 -0.88024662  0.25559466  0.91505198  1.71674179]\n",
      " [-0.02661506 -0.26558631 -0.52696962 -0.72403199  0.88471579]\n",
      " [ 0.69919017  0.20463134  2.04116946 -0.24986815  0.80437941]\n",
      " [-0.48118032  0.57622089  0.35082652  1.2242135  -0.16340145]] \n",
      "\n",
      "\n",
      " [[-0.18965986 -0.4330451   0.10473245 -1.12566426 -0.18498862]\n",
      " [ 0.         -0.88024662  0.25559466  0.91505198  1.71674179]\n",
      " [ 0.          0.         -0.52696962 -0.72403199  0.88471579]\n",
      " [ 0.          0.          0.         -0.24986815  0.80437941]\n",
      " [ 0.          0.          0.          0.         -0.16340145]] \n",
      "\n",
      "\n",
      " [[-0.18965986  0.          0.          0.          0.        ]\n",
      " [ 0.76943576 -0.88024662  0.          0.          0.        ]\n",
      " [-0.02661506 -0.26558631 -0.52696962  0.          0.        ]\n",
      " [ 0.69919017  0.20463134  2.04116946 -0.24986815  0.        ]\n",
      " [-0.48118032  0.57622089  0.35082652  1.2242135  -0.16340145]]\n"
     ]
    }
   ],
   "source": [
    "# Creating Triangluar Matrix from full matrix\n",
    "\n",
    "S = np.random.randn(5,5)\n",
    "U = np.triu(S)\n",
    "L = np.tril(S)\n",
    "\n",
    "\n",
    "print(S ,'\\n\\n\\n', U ,'\\n\\n\\n', L)\n"
   ]
  },
  {
   "cell_type": "code",
   "execution_count": 16,
   "metadata": {},
   "outputs": [
    {
     "data": {
      "text/plain": [
       "array([[ 0.61318207,  0.36931268,  1.0601384 ,  0.76350801,  0.937204  ,\n",
       "         0.85980076],\n",
       "       [-0.46362349,  0.51381697,  0.45420521,  1.8277825 , -0.17400551,\n",
       "        -0.46009279],\n",
       "       [ 0.66437579,  0.8531079 ,  0.37363251, -0.28561275,  0.13775724,\n",
       "         2.41307153]])"
      ]
     },
     "execution_count": 16,
     "metadata": {},
     "output_type": "execute_result"
    }
   ],
   "source": [
    "# Matrix Concatenation \n",
    "\n",
    "A = np.random.randn(3, 2)\n",
    "B = np.random.randn(3, 4)\n",
    "\n",
    "C = np.concatenate((A, B), axis=1)\n",
    "\n",
    "C\n",
    "# For Concatenation the rows should match !!"
   ]
  },
  {
   "cell_type": "markdown",
   "metadata": {},
   "source": [
    "##### Matrix Addition is Commutative i.e A + B = B + A \n",
    "##### Matrix Addition is Associative i.e A + ( B + C ) = ( A + B ) + C"
   ]
  },
  {
   "cell_type": "code",
   "execution_count": 21,
   "metadata": {},
   "outputs": [
    {
     "data": {
      "text/plain": [
       "array([[ 0.90629012, -0.156261  ,  0.21742321,  0.31387852],\n",
       "       [-2.5567235 , -2.0072156 ,  0.35676146, -3.04819017],\n",
       "       [-0.25263566, -0.67347519, -0.19694817, -0.12405769],\n",
       "       [ 0.36389509,  0.41592365, -1.01936654, -0.24190386],\n",
       "       [-2.46845609,  1.40229685,  1.12091683, -0.41040819]])"
      ]
     },
     "execution_count": 21,
     "metadata": {},
     "output_type": "execute_result"
    }
   ],
   "source": [
    "# Matrix Addition\n",
    "\n",
    "A = np.random.randn(5, 5)\n",
    "B = np.random.randn(5, 4)\n",
    "C = np.random.randn(5, 4)\n",
    "\n",
    "\n",
    "\n",
    "\n",
    "B + C"
   ]
  },
  {
   "cell_type": "code",
   "execution_count": 25,
   "metadata": {},
   "outputs": [
    {
     "name": "stdout",
     "output_type": "stream",
     "text": [
      "[[ 0.05186703  0.45985203  0.39216976 -0.38115427  0.00905469]\n",
      " [ 0.34533261  3.73837983 -0.38942261  0.25840213 -0.35883761]\n",
      " [ 0.41201106 -0.92460322 -0.09941797 -1.35806781  0.62083158]\n",
      " [-1.04026015 -0.46489904  1.79785039  1.29661072 -1.48283624]\n",
      " [ 0.99887353 -0.37973557  1.90590601 -0.69912247  0.94227698]]\n"
     ]
    }
   ],
   "source": [
    "## Shifting a Matrix ( Here the Matrix can only be the Square Matrix , because the Identity matrix will be square matrix we can only add  matrices with same shape)\n",
    "\n",
    "l = 0.3\n",
    "N = 5\n",
    "D = np.random.randn(N , N)\n",
    "\n",
    "D_shift = D + l * np.eye(N)\n",
    "\n",
    "print(D_shift)"
   ]
  }
 ],
 "metadata": {
  "kernelspec": {
   "display_name": "Deep_Learning",
   "language": "python",
   "name": "python3"
  },
  "language_info": {
   "codemirror_mode": {
    "name": "ipython",
    "version": 3
   },
   "file_extension": ".py",
   "mimetype": "text/x-python",
   "name": "python",
   "nbconvert_exporter": "python",
   "pygments_lexer": "ipython3",
   "version": "3.9.15"
  }
 },
 "nbformat": 4,
 "nbformat_minor": 2
}
